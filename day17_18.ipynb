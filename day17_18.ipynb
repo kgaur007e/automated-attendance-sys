{
 "cells": [
  {
   "cell_type": "code",
   "execution_count": 1,
   "metadata": {},
   "outputs": [],
   "source": [
    "'''Tkinter is primarily a GUI (Graphical User Interface) library for creating desktop applications in Python, \n",
    "and it is not designed for web hosting like Flask or Streamlit. Tkinter is used to create standalone graphical \n",
    "desktop applications that run locally on a user's computer. Therefore, you do not \"host\" a \n",
    "Tkinter application in the same way you would host a Flask web application or a Streamlit app.'''"
   ]
  },
  {
   "cell_type": "code",
   "execution_count": 8,
   "metadata": {},
   "outputs": [],
   "source": [
    "import tkinter as ttk\n",
    "from tkinter import font\n",
    "app=ttk.Tk()\n",
    "app.geometry('800x800')\n",
    "app.title('Attendance System')\n",
    "font_=font.Font(size=20)\n",
    "#main code is hear\n",
    "\n",
    "ttk.Label(app,text='Face Recognition System',font=font_).pack()\n",
    "\n",
    "def registration():\n",
    "    print('Registration')\n",
    "\n",
    "def attendance():\n",
    "    print(\"Attendance\")\n",
    "\n",
    "def clear_data():\n",
    "    print(\"Clear All the previous data\")  \n",
    "\n",
    "ttk.Button(app,text='Registration', command=registration, font=font_ , height=1,width=10,bg='#DC7633').pack(expand=True)\n",
    "ttk.Button(app,text='Attendance',command=attendance,font=font_ , height=1,width=10,bg='#DC7633').pack(expand=True)\n",
    "ttk.Button(app,text='Clear Data',command=clear_data,font=font_ , height=1,width=10,bg='#DC7633').pack(expand=True)\n",
    "\n",
    "# end the main code and run the main code\n",
    "app.mainloop()"
   ]
  },
  {
   "cell_type": "code",
   "execution_count": 10,
   "metadata": {},
   "outputs": [],
   "source": []
  },
  {
   "cell_type": "code",
   "execution_count": null,
   "metadata": {},
   "outputs": [],
   "source": []
  }
 ],
 "metadata": {
  "kernelspec": {
   "display_name": "Python 3",
   "language": "python",
   "name": "python3"
  },
  "language_info": {
   "codemirror_mode": {
    "name": "ipython",
    "version": 3
   },
   "file_extension": ".py",
   "mimetype": "text/x-python",
   "name": "python",
   "nbconvert_exporter": "python",
   "pygments_lexer": "ipython3",
   "version": "3.9.7"
  },
  "orig_nbformat": 4
 },
 "nbformat": 4,
 "nbformat_minor": 2
}
